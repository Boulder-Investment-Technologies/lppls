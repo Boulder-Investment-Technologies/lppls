{
 "cells": [
  {
   "cell_type": "code",
   "execution_count": 1,
   "metadata": {},
   "outputs": [],
   "source": [
    "import lppls, data_loader\n",
    "import numpy as np\n",
    "import pandas as pd\n",
    "%matplotlib inline\n",
    "\n",
    "data = data_loader.sp500()[:121]\n",
    "time = np.linspace(0, len(data)-1, len(data))\n",
    "price = np.log(data['Adj Close'].values)\n",
    "observations = np.array([time, price])\n",
    "\n",
    "# instantiate a new LPPLS model with the S&P 500 dataset\n",
    "lppls_model = lppls.LPPLS(observations=observations)\n"
   ]
  },
  {
   "cell_type": "code",
   "execution_count": 2,
   "metadata": {},
   "outputs": [
    {
     "name": "stdout",
     "output_type": "stream",
     "text": [
      "FOOK 0.0 0.0 0.012001514434814453 2.0884742736816406\n"
     ]
    }
   ],
   "source": [
    "filter_conditions_config = [\n",
    "  {'condition_1':[\n",
    "      (0.0, 0.1), # tc_range\n",
    "      (-1,1), # m_range\n",
    "      (4,25), # w_range\n",
    "      2.5, # O_min\n",
    "      0.5, # D_min\n",
    "  ]},\n",
    "]\n",
    "\n",
    "# import time\n",
    "# t1 = time.time()\n",
    "\n",
    "res = lppls_model.mp_compute_indicator(\n",
    "    workers=8, \n",
    "    window_size=120, \n",
    "    smallest_window_size=30, \n",
    "    increment=5, \n",
    "    max_searches=25,\n",
    "    filter_conditions_config=filter_conditions_config\n",
    ")\n",
    "\n",
    "# t2 = time.time()\n",
    "# print(f'Took {t2-t1} seconds')"
   ]
  },
  {
   "cell_type": "code",
   "execution_count": null,
   "metadata": {},
   "outputs": [],
   "source": []
  },
  {
   "cell_type": "code",
   "execution_count": null,
   "metadata": {},
   "outputs": [],
   "source": []
  }
 ],
 "metadata": {
  "kernelspec": {
   "display_name": "Python 3",
   "language": "python",
   "name": "python3"
  },
  "language_info": {
   "codemirror_mode": {
    "name": "ipython",
    "version": 3
   },
   "file_extension": ".py",
   "mimetype": "text/x-python",
   "name": "python",
   "nbconvert_exporter": "python",
   "pygments_lexer": "ipython3",
   "version": "3.6.5"
  }
 },
 "nbformat": 4,
 "nbformat_minor": 2
}
