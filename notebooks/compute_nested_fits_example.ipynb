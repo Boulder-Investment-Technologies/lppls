{
 "cells": [
  {
   "cell_type": "code",
   "execution_count": null,
   "metadata": {},
   "outputs": [],
   "source": [
    "from lppls import lppls, data_loader\n",
    "import numpy as np\n",
    "import pandas as pd\n",
    "from datetime import datetime as dt\n",
    "\n",
    "data = data_loader.nasdaq_dotcom()\n",
    "data = data.tail(130) # truncate to go faster, should leave (130-126)+1=5 days"
   ]
  },
  {
   "cell_type": "code",
   "execution_count": null,
   "metadata": {},
   "outputs": [],
   "source": [
    "# convert time to ordinal\n",
    "time = [pd.Timestamp.toordinal(dt.strptime(t1, '%Y-%m-%d')) for t1 in data['Date']]\n",
    "\n",
    "# create list of observation data\n",
    "price = np.log(data['Adj Close'].values)\n",
    "\n",
    "# create observations array (expected format for LPPLS observations)\n",
    "observations = np.array([time, price])\n",
    "\n",
    "# instantiate a new LPPLS model with the Nasdaq Dot-com bubble dataset\n",
    "lppls_model = lppls.LPPLS(observations=observations)\n",
    "\n",
    "# fit the model to the data and get back the params\n",
    "res = lppls_model.compute_nested_fits(\n",
    "    window_size=126, \n",
    "    smallest_window_size=21, \n",
    "    outer_increment=1, \n",
    "    inner_increment=5, \n",
    "    max_searches=25\n",
    ")"
   ]
  },
  {
   "cell_type": "code",
   "execution_count": null,
   "metadata": {},
   "outputs": [],
   "source": [
    "type(res)"
   ]
  },
  {
   "cell_type": "code",
   "execution_count": null,
   "metadata": {},
   "outputs": [],
   "source": [
    "res"
   ]
  },
  {
   "cell_type": "code",
   "execution_count": null,
   "metadata": {},
   "outputs": [],
   "source": [
    "res.loc[:, 121, 't2']  # This slicing ability is the reason why it might be useful."
   ]
  },
  {
   "cell_type": "code",
   "execution_count": null,
   "metadata": {},
   "outputs": [],
   "source": []
  }
 ],
 "metadata": {
  "kernelspec": {
   "display_name": "Python 3 (ipykernel)",
   "language": "python",
   "name": "python3"
  },
  "language_info": {
   "codemirror_mode": {
    "name": "ipython",
    "version": 3
   },
   "file_extension": ".py",
   "mimetype": "text/x-python",
   "name": "python",
   "nbconvert_exporter": "python",
   "pygments_lexer": "ipython3",
   "version": "3.8.2"
  }
 },
 "nbformat": 4,
 "nbformat_minor": 4
}
